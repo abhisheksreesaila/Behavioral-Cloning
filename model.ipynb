{
 "cells": [
  {
   "cell_type": "code",
   "execution_count": 1,
   "metadata": {},
   "outputs": [],
   "source": [
    "import csv\n",
    "import cv2\n",
    "import os\n",
    "import zipfile as z\n",
    "import numpy as np\n",
    "import pandas as pd"
   ]
  },
  {
   "cell_type": "code",
   "execution_count": 2,
   "metadata": {},
   "outputs": [
    {
     "name": "stderr",
     "output_type": "stream",
     "text": [
      "/home/carnd/anaconda3/envs/carnd-term1/lib/python3.5/site-packages/h5py/__init__.py:36: FutureWarning: Conversion of the second argument of issubdtype from `float` to `np.floating` is deprecated. In future, it will be treated as `np.float64 == np.dtype(float).type`.\n",
      "  from ._conv import register_converters as _register_converters\n",
      "Using TensorFlow backend.\n"
     ]
    }
   ],
   "source": [
    "from keras.models import Sequential\n",
    "from keras.layers import Flatten,Dense,Lambda,Activation, Reshape, Dropout, Cropping2D\n",
    "from keras.layers import  Conv2D\n",
    "from keras.layers import MaxPooling2D\n",
    "from sklearn.model_selection import train_test_split\n",
    "from keras.callbacks import ModelCheckpoint"
   ]
  },
  {
   "cell_type": "code",
   "execution_count": 4,
   "metadata": {},
   "outputs": [],
   "source": [
    "# _zipfile = z.ZipFile('/home/carnd/BehavCloning/BPTrainigData.zip')\n",
    "# _zipfile.extractall('/home/carnd/BehavCloning/')\n",
    "# _zipfile.close()"
   ]
  },
  {
   "cell_type": "code",
   "execution_count": null,
   "metadata": {},
   "outputs": [],
   "source": [
    "#build\n",
    "images = []\n",
    "measurements = []"
   ]
  },
  {
   "cell_type": "code",
   "execution_count": 23,
   "metadata": {},
   "outputs": [],
   "source": [
    "lines = []\n",
    "\n",
    "with open('/home/carnd/BehavCloning/data/driving_log.csv') as csvfile:\n",
    "    reader = csv.reader(csvfile)\n",
    "    for line in reader:\n",
    "        lines.append(line)\n",
    "        \n",
    "        \n",
    "del lines[0]   \n",
    "\n",
    "\n",
    "for line in lines:\n",
    "            \n",
    "            ##############################################################\n",
    "            #center image\n",
    "            source_path = line[0]\n",
    "            filename = source_path.split('/')[-1]\n",
    "            current_path = '/home/carnd/BehavCloning/data/IMG/' + filename\n",
    "            C_image = cv2.imread(current_path)\n",
    "            C_image_CONVERTED = cv2.cvtColor(C_image, cv2.COLOR_BGR2RGB)\n",
    "            \n",
    "            \n",
    "            #left image\n",
    "            source_path = line[1]\n",
    "            filename = source_path.split('/')[-1]\n",
    "            current_path = '/home/carnd/BehavCloning/data/IMG/' + filename\n",
    "            L_image = cv2.imread(current_path)\n",
    "            L_image_CONVERTED = cv2.cvtColor(L_image, cv2.COLOR_BGR2RGB)\n",
    "            \n",
    "            #right image\n",
    "            source_path = line[2]\n",
    "            filename = source_path.split('/')[-1]\n",
    "            current_path = '/home/carnd/BehavCloning/data/IMG/' + filename\n",
    "            R_image = cv2.imread(current_path)\n",
    "            R_image_CONVERTED = cv2.cvtColor(R_image, cv2.COLOR_BGR2RGB)  # converting to RGB since drive.py feeds the model that way\n",
    "            ##############################################################\n",
    "            \n",
    "            # add to the images list\n",
    "            images.append((C_image_CONVERTED))\n",
    "            measurement = float(line[3])\n",
    "            measurements.append(measurement)  \n",
    "            \n",
    "            images.append((L_image_CONVERTED))\n",
    "            measurement = float(line[3]) + 0.2\n",
    "            measurements.append(measurement)  \n",
    "            \n",
    "            images.append((R_image_CONVERTED))\n",
    "            measurement = float(line[3]) - 0.2\n",
    "            measurements.append(measurement)  \n",
    "            "
   ]
  },
  {
   "cell_type": "code",
   "execution_count": 24,
   "metadata": {},
   "outputs": [],
   "source": [
    "X_train = np.array(images)\n",
    "y_train = np.array(measurements)"
   ]
  },
  {
   "cell_type": "code",
   "execution_count": 7,
   "metadata": {},
   "outputs": [
    {
     "name": "stdout",
     "output_type": "stream",
     "text": [
      "Train on 6428 samples, validate on 1608 samples\n",
      "Epoch 1/7\n",
      "6428/6428 [==============================] - 11s 2ms/step - loss: 5219853.5818 - val_loss: 4506.5717\n",
      "Epoch 2/7\n",
      "6428/6428 [==============================] - 8s 1ms/step - loss: 3336.5431 - val_loss: 2559.3310\n",
      "Epoch 3/7\n",
      "6428/6428 [==============================] - 8s 1ms/step - loss: 2844.1095 - val_loss: 2458.7846\n",
      "Epoch 4/7\n",
      "6428/6428 [==============================] - 8s 1ms/step - loss: 2591.9325 - val_loss: 2127.9737\n",
      "Epoch 5/7\n",
      "6428/6428 [==============================] - 8s 1ms/step - loss: 2118.5897 - val_loss: 4286.9408\n",
      "Epoch 6/7\n",
      "6428/6428 [==============================] - 8s 1ms/step - loss: 2376.9463 - val_loss: 4251.3575\n",
      "Epoch 7/7\n",
      "6428/6428 [==============================] - 8s 1ms/step - loss: 3745.5231 - val_loss: 18793.1858\n"
     ]
    }
   ],
   "source": [
    "\n",
    "# # # Basic Network\n",
    "# model = Sequential()\n",
    "# model.add(Flatten(input_shape=(160,320,3)))\n",
    "# model.add(Dense(1))\n",
    "# model.compile(loss='mse', optimizer='adam')\n",
    "# model.fit(X_train, y_train, validation_split=0.2, shuffle=True, epochs=7)\n",
    "# model.save('model.h5')\n"
   ]
  },
  {
   "cell_type": "code",
   "execution_count": 30,
   "metadata": {},
   "outputs": [
    {
     "name": "stderr",
     "output_type": "stream",
     "text": [
      "/home/carnd/anaconda3/envs/carnd-term1/lib/python3.5/site-packages/keras/models.py:942: UserWarning: The `nb_epoch` argument in `fit` has been renamed `epochs`.\n",
      "  warnings.warn('The `nb_epoch` argument in `fit` '\n"
     ]
    },
    {
     "name": "stdout",
     "output_type": "stream",
     "text": [
      "Train on 6428 samples, validate on 1608 samples\n",
      "Epoch 1/7\n",
      "6428/6428 [==============================] - 10s 2ms/step - loss: 1.6282 - val_loss: 0.7185\n",
      "Epoch 2/7\n",
      "6428/6428 [==============================] - 10s 1ms/step - loss: 3.8100 - val_loss: 2.8637\n",
      "Epoch 3/7\n",
      "6428/6428 [==============================] - 9s 1ms/step - loss: 4.6175 - val_loss: 2.4267\n",
      "Epoch 4/7\n",
      "6428/6428 [==============================] - 10s 1ms/step - loss: 3.7476 - val_loss: 2.6262\n",
      "Epoch 5/7\n",
      "6428/6428 [==============================] - 9s 1ms/step - loss: 3.1678 - val_loss: 1.4324\n",
      "Epoch 6/7\n",
      "6428/6428 [==============================] - 9s 1ms/step - loss: 2.7388 - val_loss: 2.3627\n",
      "Epoch 7/7\n",
      "6428/6428 [==============================] - 10s 1ms/step - loss: 2.8153 - val_loss: 1.8122\n"
     ]
    }
   ],
   "source": [
    "# # # Basic Network + Data Ppocessing\n",
    "# model = Sequential()\n",
    "# model.add(Lambda(lambda x:x/255.0 - 0.5, input_shape=(160,320,3)))\n",
    "# model.add(Flatten())\n",
    "# model.add(Dense(1))\n",
    "# model.compile(loss='mse', optimizer='adam')\n",
    "# model.fit(X_train, y_train, validation_split=0.2, shuffle=True, nb_epoch=7)\n",
    "# model.save('model2.h5')"
   ]
  },
  {
   "cell_type": "code",
   "execution_count": 20,
   "metadata": {},
   "outputs": [],
   "source": [
    "# # # # # LeNET\n",
    "\n",
    "# class LeNet:\n",
    "#     def build(height, width, channels, classes, weightsPath=None):   \n",
    "        \n",
    "#         model = Sequential() \n",
    "#         model.add(Lambda(lambda x:x/127.5-1.0, input_shape=(height,width,channels)))\n",
    "#         #LeNET\n",
    "#         model.add(Conv2D(filters=20,kernel_size=(5,5),  strides=(1, 1), padding=\"same\"))\n",
    "#         model.add(Activation(\"relu\"))\n",
    "#         model.add(MaxPooling2D(pool_size=(2,2),strides=(2,2)))\n",
    "\n",
    "#         model.add(Conv2D(filters=50,kernel_size=(5,5),padding=\"same\"))\n",
    "#         model.add(Activation(\"relu\"))\n",
    "#         model.add(MaxPooling2D(pool_size=(2,2),strides=(2,2)))\n",
    "\n",
    "#         model.add(Flatten())\n",
    "#         model.add(Dense(500))\n",
    "#         model.add(Activation(\"relu\"))\n",
    "#         model.add(Dense(classes))\n",
    "#         model.add(Activation(\"softmax\"))\n",
    "#         model.summary()\n",
    "\n",
    "#         return model"
   ]
  },
  {
   "cell_type": "code",
   "execution_count": 21,
   "metadata": {},
   "outputs": [
    {
     "name": "stdout",
     "output_type": "stream",
     "text": [
      "_________________________________________________________________\n",
      "Layer (type)                 Output Shape              Param #   \n",
      "=================================================================\n",
      "lambda_4 (Lambda)            (None, 160, 320, 3)       0         \n",
      "_________________________________________________________________\n",
      "conv2d_16 (Conv2D)           (None, 160, 320, 20)      1520      \n",
      "_________________________________________________________________\n",
      "activation_1 (Activation)    (None, 160, 320, 20)      0         \n",
      "_________________________________________________________________\n",
      "max_pooling2d_1 (MaxPooling2 (None, 80, 160, 20)       0         \n",
      "_________________________________________________________________\n",
      "conv2d_17 (Conv2D)           (None, 80, 160, 50)       25050     \n",
      "_________________________________________________________________\n",
      "activation_2 (Activation)    (None, 80, 160, 50)       0         \n",
      "_________________________________________________________________\n",
      "max_pooling2d_2 (MaxPooling2 (None, 40, 80, 50)        0         \n",
      "_________________________________________________________________\n",
      "flatten_4 (Flatten)          (None, 160000)            0         \n",
      "_________________________________________________________________\n",
      "dense_13 (Dense)             (None, 500)               80000500  \n",
      "_________________________________________________________________\n",
      "activation_3 (Activation)    (None, 500)               0         \n",
      "_________________________________________________________________\n",
      "dense_14 (Dense)             (None, 1)                 501       \n",
      "_________________________________________________________________\n",
      "activation_4 (Activation)    (None, 1)                 0         \n",
      "=================================================================\n",
      "Total params: 80,027,571\n",
      "Trainable params: 80,027,571\n",
      "Non-trainable params: 0\n",
      "_________________________________________________________________\n",
      "Train on 6428 samples, validate on 1608 samples\n",
      "Epoch 1/5\n",
      "6428/6428 [==============================] - 99s 15ms/step - loss: 0.9882 - val_loss: 1.0895\n",
      "Epoch 2/5\n",
      "6428/6428 [==============================] - 96s 15ms/step - loss: 0.9882 - val_loss: 1.0895\n",
      "Epoch 3/5\n",
      "6428/6428 [==============================] - 96s 15ms/step - loss: 0.9882 - val_loss: 1.0895\n",
      "Epoch 4/5\n",
      "6428/6428 [==============================] - 96s 15ms/step - loss: 0.9882 - val_loss: 1.0895\n",
      "Epoch 5/5\n",
      "6428/6428 [==============================] - 96s 15ms/step - loss: 0.9882 - val_loss: 1.0895\n"
     ]
    }
   ],
   "source": [
    "# # # model 3 output\n",
    "# model = LeNet.build(height=160, width = 320, channels=3, classes=1)\n",
    "# model.compile(loss='mse', optimizer='adam')\n",
    "# model.fit(X_train, y_train, validation_split=0.2, shuffle=True, epochs=5)\n",
    "# model.save('model3.h5')"
   ]
  },
  {
   "cell_type": "code",
   "execution_count": 28,
   "metadata": {},
   "outputs": [],
   "source": [
    "augmented_images, augmented_measurements =[], []\n",
    "\n",
    "for image, measurement in zip(images, measurements):\n",
    "    #put rela iamges\n",
    "    augmented_images.append(image)\n",
    "    augmented_measurements.append(measurement)  \n",
    "    augmented_images.append(cv2.flip(image,1))\n",
    "    augmented_measurements.append(measurement*-1.0)"
   ]
  },
  {
   "cell_type": "code",
   "execution_count": 29,
   "metadata": {},
   "outputs": [],
   "source": [
    "X_train_aug = np.array(augmented_images)\n",
    "y_train_aug = np.array(augmented_measurements)"
   ]
  },
  {
   "cell_type": "code",
   "execution_count": 30,
   "metadata": {},
   "outputs": [],
   "source": [
    "IMAGE_HEIGHT, IMAGE_WIDTH, IMAGE_CHANNELS = 160, 320, 3\n",
    "INPUT_SHAPE = (IMAGE_HEIGHT, IMAGE_WIDTH, IMAGE_CHANNELS)"
   ]
  },
  {
   "cell_type": "code",
   "execution_count": 32,
   "metadata": {},
   "outputs": [],
   "source": [
    "\n",
    "\n",
    "class NVIDIANet:\n",
    "    def build(height, width, channels, classes):   \n",
    "        \n",
    "        model = Sequential()    \n",
    "        model.add(Lambda(lambda x:x/127.5-1.0, input_shape=(height,width,channels)))  # normalize    \n",
    "        model.add(Cropping2D(cropping=((70,25), (0,0)))) # cropped\n",
    "        #conv\n",
    "        model.add(Conv2D(filters=24, kernel_size=(5,5), strides=(2,2), input_shape = (height, width, channels)))\n",
    "        model.add(Conv2D(filters=36, kernel_size=(5,5), strides=(2,2)))\n",
    "        model.add(Conv2D(filters=48, kernel_size=(5,5), strides=(2,2)))\n",
    "        model.add(Conv2D(filters=64, kernel_size=(3,3)))\n",
    "        model.add(Conv2D(filters=64, kernel_size=(3,3)))      \n",
    "        model.add(Dropout(0.5))\n",
    "        #Dense\n",
    "        model.add(Flatten())      \n",
    "        model.add(Dense(100, activation =\"elu\"))\n",
    "        model.add(Dense(50, activation = \"elu\"))\n",
    "        model.add(Dense(10, activation = \"elu\"))  \n",
    "        \n",
    "        #output\n",
    "        model.add(Dense(classes))\n",
    "        \n",
    "        #Summary\n",
    "        model.summary()\n",
    "\n",
    "        return model"
   ]
  },
  {
   "cell_type": "code",
   "execution_count": 33,
   "metadata": {},
   "outputs": [
    {
     "name": "stdout",
     "output_type": "stream",
     "text": [
      "_________________________________________________________________\n",
      "Layer (type)                 Output Shape              Param #   \n",
      "=================================================================\n",
      "lambda_4 (Lambda)            (None, 160, 320, 3)       0         \n",
      "_________________________________________________________________\n",
      "cropping2d_3 (Cropping2D)    (None, 65, 320, 3)        0         \n",
      "_________________________________________________________________\n",
      "conv2d_11 (Conv2D)           (None, 31, 158, 24)       1824      \n",
      "_________________________________________________________________\n",
      "conv2d_12 (Conv2D)           (None, 14, 77, 36)        21636     \n",
      "_________________________________________________________________\n",
      "conv2d_13 (Conv2D)           (None, 5, 37, 48)         43248     \n",
      "_________________________________________________________________\n",
      "conv2d_14 (Conv2D)           (None, 3, 35, 64)         27712     \n",
      "_________________________________________________________________\n",
      "conv2d_15 (Conv2D)           (None, 1, 33, 64)         36928     \n",
      "_________________________________________________________________\n",
      "dropout_3 (Dropout)          (None, 1, 33, 64)         0         \n",
      "_________________________________________________________________\n",
      "flatten_3 (Flatten)          (None, 2112)              0         \n",
      "_________________________________________________________________\n",
      "dense_9 (Dense)              (None, 100)               211300    \n",
      "_________________________________________________________________\n",
      "dense_10 (Dense)             (None, 50)                5050      \n",
      "_________________________________________________________________\n",
      "dense_11 (Dense)             (None, 10)                510       \n",
      "_________________________________________________________________\n",
      "dense_12 (Dense)             (None, 1)                 11        \n",
      "=================================================================\n",
      "Total params: 348,219\n",
      "Trainable params: 348,219\n",
      "Non-trainable params: 0\n",
      "_________________________________________________________________\n",
      "Train on 38572 samples, validate on 9644 samples\n",
      "Epoch 1/3\n",
      "38572/38572 [==============================] - 78s 2ms/step - loss: 0.0238 - val_loss: 0.0209\n",
      "Epoch 2/3\n",
      "38572/38572 [==============================] - 78s 2ms/step - loss: 0.0191 - val_loss: 0.0199\n",
      "Epoch 3/3\n",
      "38572/38572 [==============================] - 79s 2ms/step - loss: 0.0185 - val_loss: 0.0213\n"
     ]
    }
   ],
   "source": [
    "model = NVIDIANet.build(height=IMAGE_HEIGHT, width=IMAGE_WIDTH, channels=IMAGE_CHANNELS, classes=1)\n",
    "model.compile(loss='mse', optimizer='adam')\n",
    "model.fit(X_train_aug, y_train_aug, validation_split=0.2, shuffle=True, epochs=3)\n",
    "model.save('model.h5')"
   ]
  }
 ],
 "metadata": {
  "anaconda-cloud": {},
  "kernelspec": {
   "display_name": "Python 3",
   "language": "python",
   "name": "python3"
  },
  "language_info": {
   "codemirror_mode": {
    "name": "ipython",
    "version": 3
   },
   "file_extension": ".py",
   "mimetype": "text/x-python",
   "name": "python",
   "nbconvert_exporter": "python",
   "pygments_lexer": "ipython3",
   "version": "3.5.4"
  },
  "widgets": {
   "state": {},
   "version": "1.1.2"
  }
 },
 "nbformat": 4,
 "nbformat_minor": 2
}
